{
 "cells": [
  {
   "cell_type": "code",
   "execution_count": null,
   "metadata": {},
   "outputs": [],
   "source": [
    "%pylab inline\n",
    "import torch\n",
    "from torch.autograd import Variable\n",
    "from torch import nn\n",
    "import loader\n",
    "from threes import *\n",
    "from qLearningNet import *\n",
    "import time\n",
    "from AIModels import *\n",
    "from replayMemory import *\n",
    "\n",
    "\n",
    "MOVES = [0, 1, 2, 3]\n",
    "\n",
    "FILENAME = \"saved_parameters\"\n",
    "INPUT_SIZE = 19\n",
    "HIDDEN_SIZE = 256\n",
    "\n",
    "\n",
    "def testNet(filename=None, net=None):\n",
    "    game = Threes(save_game=False)\n",
    "    if filename is not None:\n",
    "        ai = QLearningNetAI(game, filename=filename)\n",
    "    elif net is not None:\n",
    "        ai = QLearningNetAI(game, net=net)\n",
    "    scores, move_count, highs = AIModel.test_ai(ai, 100, verbose=False)\n",
    "    return move_count, np.mean(scores), np.mean(highs)\n",
    "\n",
    "\n",
    "# parametry sieci np. learning rate\n",
    "# lepszy zbior uczacy - jak w DeepMindzie\n",
    "# nagrody - musza byc wieksze - inaczej sami sobie redukujemy learning rate\n",
    "# (gestsze nagrody - np. logarytm z rewardow)\n",
    "# uczyc jednak dobrymi przebiegami\n",
    "# http://pytorch.org/docs/master/nn.html#embedding \n",
    "# nagrody za mergowane klocki, wykres wartosci Q"
   ]
  },
  {
   "cell_type": "code",
   "execution_count": null,
   "metadata": {},
   "outputs": [],
   "source": [
    "def train(model, data_loaders, optimizer, num_epochs=500, log_every=100, verbose=True, batch_size=100, \\\n",
    "          use_memory=True, gamma=0.8):\n",
    "    replays = ReplayMemory(10**5)\n",
    "        \n",
    "    results = []\n",
    "    losses = []\n",
    "    \n",
    "    epoch = 0\n",
    "    if verbose:\n",
    "        print u'Training the model!'\n",
    "        print u'Interrupt at any time to get current model'\n",
    "    try:\n",
    "        while epoch < num_epochs:\n",
    "            epoch += 1\n",
    "            new_data = data_loaders.get(model, batch_size)\n",
    "            if use_memory:\n",
    "                replays.add(new_data)\n",
    "                x = replays.choose(batch_size)\n",
    "            else:\n",
    "                x = new_data\n",
    "            \n",
    "            future = x[:, 21:]\n",
    "            future_scores = model.Q(future)\n",
    "            for i, row in enumerate(future):\n",
    "                game = Threes(save_game=False, data=row.tolist())\n",
    "                for j, move in enumerate(MoveEnum):\n",
    "                    if not game.canMove(move):\n",
    "                        future_scores[i, j] = float('-inf')\n",
    "                if not game.getPossibleMoves():\n",
    "                    future_scores[i:,:] = np.full((1,4), x[i, 20])\n",
    "                \n",
    "            y = x[:, 20] + gamma * np.max(future_scores, axis=1)\n",
    "            xx = x[:, :19]\n",
    "\n",
    "            optimizer.zero_grad()\n",
    "            i = np.asarray(np.vstack((np.arange(0,batch_size),x[:,19])),int)\n",
    "            \n",
    "            i = torch.LongTensor(i)\n",
    "            out = model.Q(xx, as_variable=True)[i[0],i[1]]\n",
    "            loss = model.loss(out, y)\n",
    "            loss.backward()\n",
    "            optimizer.step()\n",
    "\n",
    "            if epoch % log_every == 0 and verbose:\n",
    "                #print replays.data.shape\n",
    "                print u\"Minibatch {0: >6}  | loss {1: >15.12f} \".format(epoch, loss.data[0])\n",
    "                result = testNet(net=model)\n",
    "                print u\"The average score was {}\".format(result[1])\n",
    "                results += [result[1]]\n",
    "                losses += [loss.data.numpy()]\n",
    "            if epoch % (log_every * 20) == 0:\n",
    "                result = testNet(net=model)\n",
    "                filename = FILENAME +'{}_{}'.format(epoch, int(result[1]))\n",
    "                model.save_parameters(filename)\n",
    "                \n",
    "\n",
    "    except KeyboardInterrupt:\n",
    "        pass\n",
    "    result = testNet(net=model)\n",
    "    filename = FILENAME +'{}_{}'.format(epoch, int(result[1]))\n",
    "    model.save_parameters(filename)\n",
    "    return results, losses"
   ]
  },
  {
   "cell_type": "code",
   "execution_count": null,
   "metadata": {
    "scrolled": false
   },
   "outputs": [],
   "source": [
    "q_learning_net = QLearningNet()\n",
    "for p in q_learning_net.network.parameters():\n",
    "    p.requires_grad = True\n",
    "optimizer = torch.optim.Adam(q_learning_net.network.parameters(), lr=5.0)\n",
    "data_loader = loader.Loader()\n",
    "scores, loses = train(q_learning_net, data_loader, optimizer, num_epochs=20000)\n",
    "print(\"Learning done\")\n",
    "# save scores, loses to file?"
   ]
  },
  {
   "cell_type": "code",
   "execution_count": null,
   "metadata": {},
   "outputs": [],
   "source": [
    "figure()\n",
    "figsize(16, 10)\n",
    "subplot(1,2,1)\n",
    "plot(range(100,len(scores)*100+1, 100), scores, marker='o')\n",
    "xlabel('Number of epochs')\n",
    "ylabel('Average score')\n",
    "subplot(1,2,2)\n",
    "plot(range(100,len(scores)*100+1, 100), np.log(loses), marker='o')\n",
    "xlabel('Number of epochs')\n",
    "ylabel('Loss')\n",
    "show()"
   ]
  },
  {
   "cell_type": "code",
   "execution_count": null,
   "metadata": {},
   "outputs": [],
   "source": [
    "filename = FILENAME + '6000_447'\n",
    "print testNet(filename = filename)"
   ]
  },
  {
   "cell_type": "code",
   "execution_count": null,
   "metadata": {},
   "outputs": [],
   "source": [
    "game = Threes(save_game=False)\n",
    "ai = RandomAI(game)\n",
    "scores, move_count, highs = AIModel.test_ai(ai, 1000, verbose=False)\n",
    "print move_count\n",
    "print np.mean(scores), np.mean(highs)"
   ]
  },
  {
   "cell_type": "code",
   "execution_count": null,
   "metadata": {},
   "outputs": [],
   "source": [
    "game = Threes(save_game=False)\n",
    "ai = MiniMaxAI(game)\n",
    "scores, move_count, highs = AIModel.test_ai(ai, 10, verbose=False)\n",
    "print move_count\n",
    "print np.mean(scores), np.mean(highs)"
   ]
  }
 ],
 "metadata": {
  "kernelspec": {
   "display_name": "Python 2",
   "language": "python",
   "name": "python2"
  },
  "language_info": {
   "codemirror_mode": {
    "name": "ipython",
    "version": 2
   },
   "file_extension": ".py",
   "mimetype": "text/x-python",
   "name": "python",
   "nbconvert_exporter": "python",
   "pygments_lexer": "ipython2",
   "version": "2.7.13"
  }
 },
 "nbformat": 4,
 "nbformat_minor": 2
}
